{
 "cells": [
  {
   "cell_type": "code",
   "execution_count": 222,
   "metadata": {
    "collapsed": true
   },
   "outputs": [],
   "source": [
    "from IPython.display import display, Markdown, Latex, HTML\n",
    "import numpy as np\n",
    "from operator import itemgetter\n",
    "\n",
    "def dicts_list_as_table(source_dict):\n",
    "    keys = list(key for key in source_dict[0].keys())\n",
    "    keys = r'|'.join(keys)\n",
    "    tbl = [r'|' + keys +r'|',]\n",
    "    tbl.append(r'|' + r'---|'.join('' for key in source_dict[0].keys()) + r'|')\n",
    "\n",
    "    for item in source_dict:\n",
    "        line = list(str(value) for value in item.values())\n",
    "        tbl.append(r'| %s |' % r'|'.join(line))\n",
    "\n",
    "    display(Markdown('\\n'.join(tbl)))"
   ]
  },
  {
   "cell_type": "markdown",
   "metadata": {},
   "source": [
    "# Лабораторна робота №1"
   ]
  },
  {
   "cell_type": "markdown",
   "metadata": {},
   "source": [
    "## Вихідні дані"
   ]
  },
  {
   "cell_type": "code",
   "execution_count": 252,
   "metadata": {
    "collapsed": true
   },
   "outputs": [
    {
     "data": {
      "text/markdown": [
       "|lifetime|read_speed|write_speed|price|size|name|\n",
       "|---|---|---|---|---||\n",
       "| 1|550|450|0.1|128|Kingston SSDNow KC400 |\n",
       "| 1|500|500|0.5|120|Kingston HyperX Fury |\n",
       "| 1|450|450|0.4|120|Kingston SSDNow V300 |"
      ],
      "text/plain": [
       "<IPython.core.display.Markdown object>"
      ]
     },
     "metadata": {},
     "output_type": "display_data"
    }
   ],
   "source": [
    "source_data = [{\n",
    " 'name': 'Kingston SSDNow KC400',\n",
    " 'size': 128,\n",
    " 'read_speed': 550,\n",
    " 'write_speed': 450,\n",
    " 'price': 0.1,\n",
    " 'lifetime': 1\n",
    "},\n",
    "{\n",
    " 'name': 'Kingston HyperX Fury',\n",
    " 'size': 120,\n",
    " 'read_speed': 500,\n",
    " 'write_speed': 500,\n",
    " 'price': 0.5,\n",
    " 'lifetime': 1\n",
    "},\n",
    "{\n",
    "'name': 'Kingston SSDNow V300',\n",
    " 'size': 120,\n",
    " 'read_speed': 450,\n",
    " 'write_speed': 450,\n",
    " 'price': 0.4,\n",
    " 'lifetime': 1\n",
    "},]\n",
    "\n",
    "dicts_list_as_table(source_data)"
   ]
  },
  {
   "cell_type": "markdown",
   "metadata": {},
   "source": [
    "## Нормовані показники"
   ]
  },
  {
   "cell_type": "code",
   "execution_count": 253,
   "metadata": {
    "collapsed": true
   },
   "outputs": [
    {
     "data": {
      "text/markdown": [
       "|lifetime|read_speed|write_speed|price|size|name|\n",
       "|---|---|---|---|---||\n",
       "| 1.0|1.0|0.9|0.2|1.0|Kingston SSDNow KC400 |\n",
       "| 1.0|0.909|1.0|1.0|0.938|Kingston HyperX Fury |\n",
       "| 1.0|0.818|0.9|0.8|0.938|Kingston SSDNow V300 |"
      ],
      "text/plain": [
       "<IPython.core.display.Markdown object>"
      ]
     },
     "metadata": {},
     "output_type": "display_data"
    }
   ],
   "source": [
    "standartized_values = []\n",
    "\n",
    "# Отримуємо максимальні значення\n",
    "max_size = max([item['size'] for item in source_data])\n",
    "max_read_speed = max([item['read_speed'] for item in source_data])\n",
    "max_write_speed = max([item['write_speed'] for item in source_data])\n",
    "max_price = max([item['price'] for item in source_data])\n",
    "max_lifetime = max([item['lifetime'] for item in source_data])\n",
    "\n",
    "for item in source_data:\n",
    "    standartized_values.append(\n",
    "        {\n",
    "            'name': item['name'],\n",
    "            'size': round((item['size'] / max_size), 3),\n",
    "            'read_speed': round((item['read_speed'] / max_read_speed),3),\n",
    "            'write_speed': round((item['write_speed'] / max_write_speed), 3),\n",
    "            'price': round((item['price'] / max_price), 3),\n",
    "            'lifetime': round((item['lifetime'] / max_lifetime), 3)\n",
    "        }\n",
    "    )\n",
    "\n",
    "dicts_list_as_table(standartized_values)\n"
   ]
  },
  {
   "cell_type": "code",
   "execution_count": 116,
   "metadata": {
    "collapsed": true
   },
   "outputs": [
    {
     "data": {
      "text/html": [
       "<pre>\\begin{equation} F_{1} = 1.0 \\cdot 0.05 + 1.0 \\cdot 0.3 + 0.9 \\cdot 0.3 + 0.3 \\cdot 0.3 + 0.2 \\cdot 0.3 + 1.0 \\cdot 0.3 = 0.3 \\end{equation}</pre>"
      ],
      "text/plain": [
       "<IPython.core.display.HTML object>"
      ]
     },
     "metadata": {},
     "output_type": "display_data"
    },
    {
     "data": {
      "text/latex": [
       "\\begin{equation} F_{1} = 1.0 \\cdot 0.05 + 1.0 \\cdot 0.3 + 0.9 \\cdot 0.3 + 0.3 \\cdot 0.3 + 0.2 \\cdot 0.3 + 1.0 \\cdot 0.3 = 0.3 \\end{equation}"
      ],
      "text/plain": [
       "<IPython.core.display.Latex object>"
      ]
     },
     "metadata": {},
     "output_type": "display_data"
    },
    {
     "data": {
      "text/html": [
       "<pre>\\begin{equation} F_{1} = 1.0 \\cdot 0.05 + 0.909 \\cdot 0.3 + 1.0 \\cdot 0.3 + 0.2814 \\cdot 0.3 + 1.0 \\cdot 0.3 + 0.938 \\cdot 0.3 = 0.2814 \\end{equation}</pre>"
      ],
      "text/plain": [
       "<IPython.core.display.HTML object>"
      ]
     },
     "metadata": {},
     "output_type": "display_data"
    },
    {
     "data": {
      "text/latex": [
       "\\begin{equation} F_{1} = 1.0 \\cdot 0.05 + 0.909 \\cdot 0.3 + 1.0 \\cdot 0.3 + 0.2814 \\cdot 0.3 + 1.0 \\cdot 0.3 + 0.938 \\cdot 0.3 = 0.2814 \\end{equation}"
      ],
      "text/plain": [
       "<IPython.core.display.Latex object>"
      ]
     },
     "metadata": {},
     "output_type": "display_data"
    },
    {
     "data": {
      "text/html": [
       "<pre>\\begin{equation} F_{1} = 1.0 \\cdot 0.05 + 0.818 \\cdot 0.3 + 0.9 \\cdot 0.3 + 0.2814 \\cdot 0.3 + 0.8 \\cdot 0.3 + 0.938 \\cdot 0.3 = 0.2814 \\end{equation}</pre>"
      ],
      "text/plain": [
       "<IPython.core.display.HTML object>"
      ]
     },
     "metadata": {},
     "output_type": "display_data"
    },
    {
     "data": {
      "text/latex": [
       "\\begin{equation} F_{1} = 1.0 \\cdot 0.05 + 0.818 \\cdot 0.3 + 0.9 \\cdot 0.3 + 0.2814 \\cdot 0.3 + 0.8 \\cdot 0.3 + 0.938 \\cdot 0.3 = 0.2814 \\end{equation}"
      ],
      "text/plain": [
       "<IPython.core.display.Latex object>"
      ]
     },
     "metadata": {},
     "output_type": "display_data"
    }
   ],
   "source": [
    "# Друк \"ручних розрахунків\"\n",
    "\n",
    "eq_count = 0\n",
    "\n",
    "for item in standartized_values:\n",
    "    _sum = 0\n",
    "    formula = []\n",
    "    i = 0\n",
    "    for value in item.values():\n",
    "        if type(value) is not str:\n",
    "            _sum =+ value * coefficients[i]\n",
    "            formula.append(r'%s \\cdot %s' % (value, coefficients[i]))\n",
    "            i =+1\n",
    "    \n",
    "    formula = r' + '.join(formula)\n",
    "    eq_count =+ 1\n",
    "    formula = r'\\begin{equation} F_{%s} = %s = %s \\end{equation}' % (eq_count, formula, _sum)\n",
    "    \n",
    "    display(HTML(r'<pre>' + formula + '</pre>'))\n",
    "    display(Latex(formula))"
   ]
  },
  {
   "cell_type": "markdown",
   "metadata": {},
   "source": [
    "## Знаходження оптимального варіанту"
   ]
  },
  {
   "cell_type": "code",
   "execution_count": 254,
   "metadata": {
    "collapsed": true
   },
   "outputs": [
    {
     "data": {
      "text/markdown": [
       "|lifetime|read_speed|write_speed|score|price|size|name|\n",
       "|---|---|---|---|---|---||\n",
       "| 1.0|1.0|0.9|0.3|0.2|1.0|Kingston SSDNow KC400 |\n",
       "| 1.0|0.909|1.0|0.2814|1.0|0.938|Kingston HyperX Fury |\n",
       "| 1.0|0.818|0.9|0.2814|0.8|0.938|Kingston SSDNow V300 |"
      ],
      "text/plain": [
       "<IPython.core.display.Markdown object>"
      ]
     },
     "metadata": {},
     "output_type": "display_data"
    },
    {
     "data": {
      "text/markdown": [
       "__Оптимальний варіант__: Kingston SSDNow KC400"
      ],
      "text/plain": [
       "<IPython.core.display.Markdown object>"
      ]
     },
     "metadata": {},
     "output_type": "display_data"
    }
   ],
   "source": [
    "coefficients = [0.05, 0.3, 0.3, -0.15, 0.2]\n",
    "scores = []\n",
    "\n",
    "def get_optimal():\n",
    "    \"\"\"Повертає оптимальний варіант\"\"\"\n",
    "    return max(standartized_values, key=lambda x:x['score'])\n",
    "\n",
    "def calculate_efficiency(coefficients=coefficients):\n",
    "    \"\"\"Рахуємо загальну ефективність\"\"\"\n",
    "    for item in standartized_values:\n",
    "        _sum = 0\n",
    "        i = 0\n",
    "        for value in item.values():\n",
    "            if type(value) is not str:\n",
    "                _sum =+ value * coefficients[i]\n",
    "                i =+1\n",
    "                \n",
    "        item['score'] = _sum\n",
    "#         item['coefficient'] = coefficients[i]\n",
    "    \n",
    "calculate_efficiency()\n",
    "dicts_list_as_table(standartized_values)\n",
    "\n",
    "max_score = get_optimal()\n",
    "\n",
    "display(Markdown(r'__Оптимальний варіант__: %s' % max_score['name']))"
   ]
  },
  {
   "cell_type": "markdown",
   "metadata": {},
   "source": [
    "# Лабораторна робота №2"
   ]
  },
  {
   "cell_type": "code",
   "execution_count": 272,
   "metadata": {
    "collapsed": false
   },
   "outputs": [
    {
     "data": {
      "text/markdown": [
       "#### Обрахунки для значення 1"
      ],
      "text/plain": [
       "<IPython.core.display.Markdown object>"
      ]
     },
     "metadata": {},
     "output_type": "display_data"
    },
    {
     "name": "stdout",
     "output_type": "stream",
     "text": [
      "Максимальне значення 1: 0.05\n"
     ]
    },
    {
     "data": {
      "text/markdown": [
       "|lifetime|read_speed|write_speed|score|price|size|name|\n",
       "|---|---|---|---|---|---||\n",
       "| 1.0|1.0|0.9|0.3|0.2|1.0|Kingston SSDNow KC400 |\n",
       "| 1.0|0.909|1.0|0.2814|1.0|0.938|Kingston HyperX Fury |\n",
       "| 1.0|0.818|0.9|0.2814|0.8|0.938|Kingston SSDNow V300 |"
      ],
      "text/plain": [
       "<IPython.core.display.Markdown object>"
      ]
     },
     "metadata": {},
     "output_type": "display_data"
    },
    {
     "name": "stdout",
     "output_type": "stream",
     "text": [
      "Оптимальний варіант: Kingston SSDNow KC400\n",
      "Мінімальне значення 1: 0.0\n"
     ]
    },
    {
     "data": {
      "text/markdown": [
       "|lifetime|read_speed|write_speed|score|price|size|name|\n",
       "|---|---|---|---|---|---||\n",
       "| 1.0|1.0|0.9|0.3125|0.2|1.0|Kingston SSDNow KC400 |\n",
       "| 1.0|0.909|1.0|0.293125|1.0|0.938|Kingston HyperX Fury |\n",
       "| 1.0|0.818|0.9|0.293125|0.8|0.938|Kingston SSDNow V300 |"
      ],
      "text/plain": [
       "<IPython.core.display.Markdown object>"
      ]
     },
     "metadata": {},
     "output_type": "display_data"
    },
    {
     "name": "stdout",
     "output_type": "stream",
     "text": [
      "Оптимальний варіант: Kingston SSDNow KC400\n",
      "\n",
      "\n"
     ]
    },
    {
     "data": {
      "text/markdown": [
       "#### Обрахунки для значення 2"
      ],
      "text/plain": [
       "<IPython.core.display.Markdown object>"
      ]
     },
     "metadata": {},
     "output_type": "display_data"
    },
    {
     "name": "stdout",
     "output_type": "stream",
     "text": [
      "Максимальне значення 2: 0.3\n"
     ]
    },
    {
     "data": {
      "text/markdown": [
       "|lifetime|read_speed|write_speed|score|price|size|name|\n",
       "|---|---|---|---|---|---||\n",
       "| 1.0|1.0|0.9|0.3|0.2|1.0|Kingston SSDNow KC400 |\n",
       "| 1.0|0.909|1.0|0.2814|1.0|0.938|Kingston HyperX Fury |\n",
       "| 1.0|0.818|0.9|0.2814|0.8|0.938|Kingston SSDNow V300 |"
      ],
      "text/plain": [
       "<IPython.core.display.Markdown object>"
      ]
     },
     "metadata": {},
     "output_type": "display_data"
    },
    {
     "name": "stdout",
     "output_type": "stream",
     "text": [
      "Оптимальний варіант: Kingston SSDNow KC400\n",
      "Мінімальне значення 2: 0.3\n"
     ]
    },
    {
     "data": {
      "text/markdown": [
       "|lifetime|read_speed|write_speed|score|price|size|name|\n",
       "|---|---|---|---|---|---||\n",
       "| 1.0|1.0|0.9|0.3|0.2|1.0|Kingston SSDNow KC400 |\n",
       "| 1.0|0.909|1.0|0.2814|1.0|0.938|Kingston HyperX Fury |\n",
       "| 1.0|0.818|0.9|0.2814|0.8|0.938|Kingston SSDNow V300 |"
      ],
      "text/plain": [
       "<IPython.core.display.Markdown object>"
      ]
     },
     "metadata": {},
     "output_type": "display_data"
    },
    {
     "name": "stdout",
     "output_type": "stream",
     "text": [
      "Оптимальний варіант: Kingston SSDNow KC400\n",
      "\n",
      "\n"
     ]
    },
    {
     "data": {
      "text/markdown": [
       "#### Обрахунки для значення 3"
      ],
      "text/plain": [
       "<IPython.core.display.Markdown object>"
      ]
     },
     "metadata": {},
     "output_type": "display_data"
    },
    {
     "name": "stdout",
     "output_type": "stream",
     "text": [
      "Максимальне значення 3: 0.3\n"
     ]
    },
    {
     "data": {
      "text/markdown": [
       "|lifetime|read_speed|write_speed|score|price|size|name|\n",
       "|---|---|---|---|---|---||\n",
       "| 1.0|1.0|0.9|0.3|0.2|1.0|Kingston SSDNow KC400 |\n",
       "| 1.0|0.909|1.0|0.2814|1.0|0.938|Kingston HyperX Fury |\n",
       "| 1.0|0.818|0.9|0.2814|0.8|0.938|Kingston SSDNow V300 |"
      ],
      "text/plain": [
       "<IPython.core.display.Markdown object>"
      ]
     },
     "metadata": {},
     "output_type": "display_data"
    },
    {
     "name": "stdout",
     "output_type": "stream",
     "text": [
      "Оптимальний варіант: Kingston SSDNow KC400\n",
      "Мінімальне значення 3: -0.05\n"
     ]
    },
    {
     "data": {
      "text/markdown": [
       "|lifetime|read_speed|write_speed|score|price|size|name|\n",
       "|---|---|---|---|---|---||\n",
       "| 1.0|1.0|0.9|0.3875|0.2|1.0|Kingston SSDNow KC400 |\n",
       "| 1.0|0.909|1.0|0.363475|1.0|0.938|Kingston HyperX Fury |\n",
       "| 1.0|0.818|0.9|0.363475|0.8|0.938|Kingston SSDNow V300 |"
      ],
      "text/plain": [
       "<IPython.core.display.Markdown object>"
      ]
     },
     "metadata": {},
     "output_type": "display_data"
    },
    {
     "name": "stdout",
     "output_type": "stream",
     "text": [
      "Оптимальний варіант: Kingston SSDNow KC400\n",
      "\n",
      "\n"
     ]
    },
    {
     "data": {
      "text/markdown": [
       "#### Обрахунки для значення 4"
      ],
      "text/plain": [
       "<IPython.core.display.Markdown object>"
      ]
     },
     "metadata": {},
     "output_type": "display_data"
    },
    {
     "name": "stdout",
     "output_type": "stream",
     "text": [
      "Максимальне значення 4: 0.65\n"
     ]
    },
    {
     "data": {
      "text/markdown": [
       "|lifetime|read_speed|write_speed|score|price|size|name|\n",
       "|---|---|---|---|---|---||\n",
       "| 1.0|1.0|0.9|0.1|0.2|1.0|Kingston SSDNow KC400 |\n",
       "| 1.0|0.909|1.0|0.0938|1.0|0.938|Kingston HyperX Fury |\n",
       "| 1.0|0.818|0.9|0.0938|0.8|0.938|Kingston SSDNow V300 |"
      ],
      "text/plain": [
       "<IPython.core.display.Markdown object>"
      ]
     },
     "metadata": {},
     "output_type": "display_data"
    },
    {
     "name": "stdout",
     "output_type": "stream",
     "text": [
      "Оптимальний варіант: Kingston SSDNow KC400\n",
      "Мінімальне значення 4: -0.15\n"
     ]
    },
    {
     "data": {
      "text/markdown": [
       "|lifetime|read_speed|write_speed|score|price|size|name|\n",
       "|---|---|---|---|---|---||\n",
       "| 1.0|1.0|0.9|0.1|0.2|1.0|Kingston SSDNow KC400 |\n",
       "| 1.0|0.909|1.0|0.0938|1.0|0.938|Kingston HyperX Fury |\n",
       "| 1.0|0.818|0.9|0.0938|0.8|0.938|Kingston SSDNow V300 |"
      ],
      "text/plain": [
       "<IPython.core.display.Markdown object>"
      ]
     },
     "metadata": {},
     "output_type": "display_data"
    },
    {
     "name": "stdout",
     "output_type": "stream",
     "text": [
      "Оптимальний варіант: Kingston SSDNow KC400\n",
      "\n",
      "\n"
     ]
    },
    {
     "data": {
      "text/markdown": [
       "#### Обрахунки для значення 5"
      ],
      "text/plain": [
       "<IPython.core.display.Markdown object>"
      ]
     },
     "metadata": {},
     "output_type": "display_data"
    },
    {
     "name": "stdout",
     "output_type": "stream",
     "text": [
      "Максимальне значення 5: 0.2\n"
     ]
    },
    {
     "data": {
      "text/markdown": [
       "|lifetime|read_speed|write_speed|score|price|size|name|\n",
       "|---|---|---|---|---|---||\n",
       "| 1.0|1.0|0.9|0.3|0.2|1.0|Kingston SSDNow KC400 |\n",
       "| 1.0|0.909|1.0|0.2814|1.0|0.938|Kingston HyperX Fury |\n",
       "| 1.0|0.818|0.9|0.2814|0.8|0.938|Kingston SSDNow V300 |"
      ],
      "text/plain": [
       "<IPython.core.display.Markdown object>"
      ]
     },
     "metadata": {},
     "output_type": "display_data"
    },
    {
     "name": "stdout",
     "output_type": "stream",
     "text": [
      "Оптимальний варіант: Kingston SSDNow KC400\n",
      "Мінімальне значення 5: -0.05\n"
     ]
    },
    {
     "data": {
      "text/markdown": [
       "|lifetime|read_speed|write_speed|score|price|size|name|\n",
       "|---|---|---|---|---|---||\n",
       "| 1.0|1.0|0.9|0.3625|0.2|1.0|Kingston SSDNow KC400 |\n",
       "| 1.0|0.909|1.0|0.340025|1.0|0.938|Kingston HyperX Fury |\n",
       "| 1.0|0.818|0.9|0.340025|0.8|0.938|Kingston SSDNow V300 |"
      ],
      "text/plain": [
       "<IPython.core.display.Markdown object>"
      ]
     },
     "metadata": {},
     "output_type": "display_data"
    },
    {
     "name": "stdout",
     "output_type": "stream",
     "text": [
      "Оптимальний варіант: Kingston SSDNow KC400\n",
      "\n",
      "\n"
     ]
    }
   ],
   "source": [
    "coefficients = [0.05, 0.3, 0.3, -0.15, 0.2] # Коефіцієнти\n",
    "step = 0.05                                 # Крок\n",
    "coefficients_cnt = len(coefficients)        # Кількість коефіцієнтів\n",
    "\n",
    "def abs_sum(lst):\n",
    "    \"\"\"Повертає суму елементів списку по модулю\"\"\"\n",
    "    sum_ = 0\n",
    "    for item in lst:\n",
    "        sum_ = sum_ + float(abs(item))\n",
    "    return(sum_)\n",
    "\n",
    "\n",
    "def find_max(coefficients, i):\n",
    "    results = []\n",
    "    \n",
    "    for delta in np.arange(step, 1, step):\n",
    "        new_coeff = list(coefficients)\n",
    "        \n",
    "        # Додаємо Delta до поточного коефіцієнту\n",
    "        new_coeff[i] = new_coeff[i] + delta\n",
    "        \n",
    "        for c in range(0, len(new_coeff)):\n",
    "            if i != c:\n",
    "                # Від усіх коефіцієнтів окрім поточного віднімаємо (Delta / кільк. коеф)\n",
    "                new_coeff[c] =new_coeff[c] - delta / (coefficients_cnt - 1)\n",
    "        \n",
    "        # Отримуємо суму по модулю\n",
    "        sum_abs =abs_sum(new_coeff)\n",
    "        \n",
    "        # Якщо сума по модулю менше одиниці додаємо її в список результатів\n",
    "        if sum_abs <= 1:\n",
    "            results.append([new_coeff[i] , sum_abs, new_coeff ])\n",
    "    \n",
    "    \n",
    "    if results:\n",
    "        # Шукаємо максимальне значення у спсику результатів\n",
    "        calculate_efficiency(coefficients=max(results, key=itemgetter(0))[2])\n",
    "        \n",
    "        if get_optimal() == max_score:\n",
    "            print('Максимальне значення %s: %s' % (i+1, max(results, key=itemgetter(0))[0]))\n",
    "            dicts_list_as_table(standartized_values)\n",
    "            print('Оптимальний варіант: %s' % get_optimal()['name'])\n",
    "        else:\n",
    "            calculate_efficiency()\n",
    "            print('Максимальне значення %s: %s' % (i+1, coefficients[i]))\n",
    "            dicts_list_as_table(standartized_values)\n",
    "            print('Оптимальний варіант: %s' % get_optimal()['name'])\n",
    "            \n",
    "    else:\n",
    "        calculate_efficiency()\n",
    "        print('Максимальне значення %s: %s' % (i+1, coefficients[i]))\n",
    "        dicts_list_as_table(standartized_values)\n",
    "        print('Оптимальний варіант: %s' % get_optimal()['name'])\n",
    "        \n",
    "\n",
    "        \n",
    "def find_min(coefficients, i):\n",
    "    results = []\n",
    "    \n",
    "    for delta in np.arange(step, 1, step):\n",
    "        new_coeff = list(coefficients)\n",
    "        \n",
    "        new_coeff[i] = new_coeff[i] - delta\n",
    "        \n",
    "        for c in range(0, len(new_coeff)):\n",
    "            if i != c:\n",
    "                new_coeff[c] =new_coeff[c] + delta / (coefficients_cnt - 1)\n",
    "        \n",
    "        sum_abs =abs_sum(new_coeff)\n",
    "        \n",
    "        if sum_abs <= 1:\n",
    "            results.append([new_coeff[i] , sum_abs, new_coeff ])\n",
    "        \n",
    "    if results:\n",
    "        # Шукаємо максимальне значення у спсику результатів\n",
    "        \n",
    "        calculate_efficiency(coefficients=min(results, key=itemgetter(0))[2])\n",
    "        if get_optimal() == max_score:\n",
    "            print('Мінімальне значення %s: %s' % (i+1, min(results, key=itemgetter(0))[0]))\n",
    "            dicts_list_as_table(standartized_values)\n",
    "            print('Оптимальний варіант: %s' % get_optimal()['name'])\n",
    "            \n",
    "        else:\n",
    "            calculate_efficiency()\n",
    "            print('Мінімальне значення %s: %s' % (i+1, coefficients[i]))\n",
    "            dicts_list_as_table(standartized_values)\n",
    "            print('Оптимальний варіант: %s' % get_optimal()['name'])\n",
    "        \n",
    "    else:\n",
    "        print('Мінімальне значення %s: %s' % (i+1, coefficients[i]))\n",
    "        dicts_list_as_table(standartized_values)\n",
    "        print('Оптимальний варіант: %s' % get_optimal()['name'])\n",
    "\n",
    "\n",
    "\n",
    "for i in range(0, coefficients_cnt):\n",
    "    \n",
    "    display(Markdown('#### Обрахунки для значення %s' % str(i+1)))\n",
    "    find_max(coefficients, i)\n",
    "    find_min(coefficients, i)\n",
    "    print('\\n')\n",
    "    "
   ]
  }
 ],
 "metadata": {
  "kernelspec": {
   "display_name": "Python 3",
   "language": "python",
   "name": "python3"
  },
  "language_info": {
   "codemirror_mode": {
    "name": "ipython",
    "version": 3
   },
   "file_extension": ".py",
   "mimetype": "text/x-python",
   "name": "python",
   "nbconvert_exporter": "python",
   "pygments_lexer": "ipython3",
   "version": "3.5.1"
  },
  "widgets": {
   "state": {},
   "version": "1.1.2"
  }
 },
 "nbformat": 4,
 "nbformat_minor": 0
}
