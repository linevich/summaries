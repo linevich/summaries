{
 "cells": [
  {
   "cell_type": "code",
   "execution_count": 106,
   "metadata": {
    "collapsed": false
   },
   "outputs": [],
   "source": [
    "from IPython.display import display, Markdown, Latex, HTML\n",
    "\n",
    "def dicts_list_as_table(source_dict):\n",
    "    keys = list(key for key in source_dict[0].keys())\n",
    "    keys = r'|'.join(keys)\n",
    "    tbl = [r'|' + keys +r'|',]\n",
    "    tbl.append(r'|' + r'---|'.join('' for key in source_dict[0].keys()) + r'|')\n",
    "\n",
    "    for item in source_dict:\n",
    "        line = list(str(value) for value in item.values())\n",
    "        tbl.append(r'| %s |' % r'|'.join(line))\n",
    "\n",
    "    display(Markdown('\\n'.join(tbl)))"
   ]
  },
  {
   "cell_type": "markdown",
   "metadata": {},
   "source": [
    "## Вихідні дані"
   ]
  },
  {
   "cell_type": "code",
   "execution_count": 78,
   "metadata": {
    "collapsed": false
   },
   "outputs": [
    {
     "data": {
      "text/markdown": [
       "|lifetime|read_speed|write_speed|price|size|name|\n",
       "|---|---|---|---|---||\n",
       "| 1|550|450|0.1|128|Kingston SSDNow KC400 |\n",
       "| 1|500|500|0.5|120|Kingston HyperX Fury |\n",
       "| 1|450|450|0.4|120|Kingston SSDNow V300 |"
      ],
      "text/plain": [
       "<IPython.core.display.Markdown object>"
      ]
     },
     "metadata": {},
     "output_type": "display_data"
    }
   ],
   "source": [
    "source_data = [{\n",
    " 'name': 'Kingston SSDNow KC400',\n",
    " 'size': 128,\n",
    " 'read_speed': 550,\n",
    " 'write_speed': 450,\n",
    " 'price': 0.1,\n",
    " 'lifetime': 1\n",
    "},\n",
    "{\n",
    " 'name': 'Kingston HyperX Fury',\n",
    " 'size': 120,\n",
    " 'read_speed': 500,\n",
    " 'write_speed': 500,\n",
    " 'price': 0.5,\n",
    " 'lifetime': 1\n",
    "},\n",
    "{\n",
    "'name': 'Kingston SSDNow V300',\n",
    " 'size': 120,\n",
    " 'read_speed': 450,\n",
    " 'write_speed': 450,\n",
    " 'price': 0.4,\n",
    " 'lifetime': 1\n",
    "},]\n",
    "\n",
    "dicts_list_as_table(source_data)"
   ]
  },
  {
   "cell_type": "markdown",
   "metadata": {},
   "source": [
    "## Нормовані показники"
   ]
  },
  {
   "cell_type": "code",
   "execution_count": 77,
   "metadata": {
    "collapsed": false
   },
   "outputs": [
    {
     "data": {
      "text/markdown": [
       "|lifetime|read_speed|write_speed|price|size|name|\n",
       "|---|---|---|---|---||\n",
       "| 1.0|1.0|0.9|0.2|1.0|Kingston SSDNow KC400 |\n",
       "| 1.0|0.909|1.0|1.0|0.938|Kingston HyperX Fury |\n",
       "| 1.0|0.818|0.9|0.8|0.938|Kingston SSDNow V300 |"
      ],
      "text/plain": [
       "<IPython.core.display.Markdown object>"
      ]
     },
     "metadata": {},
     "output_type": "display_data"
    }
   ],
   "source": [
    "standartized_values = []\n",
    "\n",
    "# Отримуємо максимальні значення\n",
    "max_size = max([item['size'] for item in source_data])\n",
    "max_read_speed = max([item['read_speed'] for item in source_data])\n",
    "max_write_speed = max([item['write_speed'] for item in source_data])\n",
    "max_price = max([item['price'] for item in source_data])\n",
    "max_lifetime = max([item['lifetime'] for item in source_data])\n",
    "\n",
    "for item in source_data:\n",
    "    standartized_values.append(\n",
    "        {\n",
    "            'name': item['name'],\n",
    "            'size': round((item['size'] / max_size), 3),\n",
    "            'read_speed': round((item['read_speed'] / max_read_speed),3),\n",
    "            'write_speed': round((item['write_speed'] / max_write_speed), 3),\n",
    "            'price': round((item['price'] / max_price), 3),\n",
    "            'lifetime': round((item['lifetime'] / max_lifetime), 3)\n",
    "        }\n",
    "    )\n",
    "\n",
    "dicts_list_as_table(standartized_values)\n"
   ]
  },
  {
   "cell_type": "code",
   "execution_count": 116,
   "metadata": {
    "collapsed": false
   },
   "outputs": [
    {
     "data": {
      "text/html": [
       "<pre>\\begin{equation} F_{1} = 1.0 \\cdot 0.05 + 1.0 \\cdot 0.3 + 0.9 \\cdot 0.3 + 0.3 \\cdot 0.3 + 0.2 \\cdot 0.3 + 1.0 \\cdot 0.3 = 0.3 \\end{equation}</pre>"
      ],
      "text/plain": [
       "<IPython.core.display.HTML object>"
      ]
     },
     "metadata": {},
     "output_type": "display_data"
    },
    {
     "data": {
      "text/latex": [
       "\\begin{equation} F_{1} = 1.0 \\cdot 0.05 + 1.0 \\cdot 0.3 + 0.9 \\cdot 0.3 + 0.3 \\cdot 0.3 + 0.2 \\cdot 0.3 + 1.0 \\cdot 0.3 = 0.3 \\end{equation}"
      ],
      "text/plain": [
       "<IPython.core.display.Latex object>"
      ]
     },
     "metadata": {},
     "output_type": "display_data"
    },
    {
     "data": {
      "text/html": [
       "<pre>\\begin{equation} F_{1} = 1.0 \\cdot 0.05 + 0.909 \\cdot 0.3 + 1.0 \\cdot 0.3 + 0.2814 \\cdot 0.3 + 1.0 \\cdot 0.3 + 0.938 \\cdot 0.3 = 0.2814 \\end{equation}</pre>"
      ],
      "text/plain": [
       "<IPython.core.display.HTML object>"
      ]
     },
     "metadata": {},
     "output_type": "display_data"
    },
    {
     "data": {
      "text/latex": [
       "\\begin{equation} F_{1} = 1.0 \\cdot 0.05 + 0.909 \\cdot 0.3 + 1.0 \\cdot 0.3 + 0.2814 \\cdot 0.3 + 1.0 \\cdot 0.3 + 0.938 \\cdot 0.3 = 0.2814 \\end{equation}"
      ],
      "text/plain": [
       "<IPython.core.display.Latex object>"
      ]
     },
     "metadata": {},
     "output_type": "display_data"
    },
    {
     "data": {
      "text/html": [
       "<pre>\\begin{equation} F_{1} = 1.0 \\cdot 0.05 + 0.818 \\cdot 0.3 + 0.9 \\cdot 0.3 + 0.2814 \\cdot 0.3 + 0.8 \\cdot 0.3 + 0.938 \\cdot 0.3 = 0.2814 \\end{equation}</pre>"
      ],
      "text/plain": [
       "<IPython.core.display.HTML object>"
      ]
     },
     "metadata": {},
     "output_type": "display_data"
    },
    {
     "data": {
      "text/latex": [
       "\\begin{equation} F_{1} = 1.0 \\cdot 0.05 + 0.818 \\cdot 0.3 + 0.9 \\cdot 0.3 + 0.2814 \\cdot 0.3 + 0.8 \\cdot 0.3 + 0.938 \\cdot 0.3 = 0.2814 \\end{equation}"
      ],
      "text/plain": [
       "<IPython.core.display.Latex object>"
      ]
     },
     "metadata": {},
     "output_type": "display_data"
    }
   ],
   "source": [
    "# Друк \"ручних розрахунків\"\n",
    "\n",
    "eq_count = 0\n",
    "\n",
    "for item in standartized_values:\n",
    "    _sum = 0\n",
    "    formula = []\n",
    "    i = 0\n",
    "    for value in item.values():\n",
    "        if type(value) is not str:\n",
    "            _sum =+ value * coefficients[i]\n",
    "            formula.append(r'%s \\cdot %s' % (value, coefficients[i]))\n",
    "            i =+1\n",
    "    \n",
    "    formula = r' + '.join(formula)\n",
    "    eq_count =+ 1\n",
    "    formula = r'\\begin{equation} F_{%s} = %s = %s \\end{equation}' % (eq_count, formula, _sum)\n",
    "    \n",
    "    display(HTML(r'<pre>' + formula + '</pre>'))\n",
    "    display(Latex(formula))"
   ]
  },
  {
   "cell_type": "markdown",
   "metadata": {},
   "source": [
    "## Знаходження оптимального варіанту"
   ]
  },
  {
   "cell_type": "code",
   "execution_count": 134,
   "metadata": {
    "collapsed": false
   },
   "outputs": [
    {
     "data": {
      "text/markdown": [
       "|lifetime|read_speed|write_speed|coefficient|score|price|size|name|\n",
       "|---|---|---|---|---|---|---||\n",
       "| 1.0|1.0|0.9|0.3|0.3|0.2|1.0|Kingston SSDNow KC400 |\n",
       "| 1.0|0.909|1.0|0.3|0.2814|1.0|0.938|Kingston HyperX Fury |\n",
       "| 1.0|0.818|0.9|0.3|0.2814|0.8|0.938|Kingston SSDNow V300 |"
      ],
      "text/plain": [
       "<IPython.core.display.Markdown object>"
      ]
     },
     "metadata": {},
     "output_type": "display_data"
    },
    {
     "data": {
      "text/markdown": [
       "__Оптимальний варіант__: Kingston SSDNow KC400"
      ],
      "text/plain": [
       "<IPython.core.display.Markdown object>"
      ]
     },
     "metadata": {},
     "output_type": "display_data"
    }
   ],
   "source": [
    "coefficients = [0.05, 0.3, 0.3, -0.15, 0.2]\n",
    "scores = []\n",
    "\n",
    "for item in standartized_values:\n",
    "    _sum = 0\n",
    "    i = 0\n",
    "    for value in item.values():\n",
    "        if type(value) is not str:\n",
    "            _sum =+ value * coefficients[i]\n",
    "            i =+1\n",
    "    item['score'] = _sum\n",
    "    item['coefficient'] = coefficients[i]\n",
    "    scores.append(_sum)\n",
    "\n",
    "dicts_list_as_table(standartized_values)\n",
    "\n",
    "max_score = max(standartized_values, key=lambda x:x['score'])\n",
    "\n",
    "display(Markdown(r'__Оптимальний варіант__: %s' % max_score['name']))"
   ]
  }
 ],
 "metadata": {
  "kernelspec": {
   "display_name": "Python 3",
   "language": "python",
   "name": "python3"
  },
  "language_info": {
   "codemirror_mode": {
    "name": "ipython",
    "version": 3
   },
   "file_extension": ".py",
   "mimetype": "text/x-python",
   "name": "python",
   "nbconvert_exporter": "python",
   "pygments_lexer": "ipython3",
   "version": "3.5.1"
  },
  "widgets": {
   "state": {},
   "version": "1.1.2"
  }
 },
 "nbformat": 4,
 "nbformat_minor": 0
}
