{
 "cells": [
  {
   "cell_type": "code",
   "execution_count": 135,
   "metadata": {
    "collapsed": true
   },
   "outputs": [],
   "source": [
    "from IPython.display import display, Math, Latex"
   ]
  },
  {
   "cell_type": "markdown",
   "metadata": {},
   "source": [
    "# Розділ 2"
   ]
  },
  {
   "cell_type": "code",
   "execution_count": 136,
   "metadata": {
    "collapsed": false
   },
   "outputs": [
    {
     "data": {
      "text/latex": [
       "$$\\delta_{\\text{са}} = 0.015$$"
      ],
      "text/plain": [
       "<IPython.core.display.Math object>"
      ]
     },
     "metadata": {},
     "output_type": "display_data"
    }
   ],
   "source": [
    "delta_ca = round((0.083 / sqrt(30)),3)\n",
    "\n",
    "display(Math(r'\\delta_{\\text{са}} = %s' % delta_ca))"
   ]
  },
  {
   "cell_type": "markdown",
   "metadata": {},
   "source": [
    "# Розділ 3\n",
    "## Знайдемо приведену похибку гігрометра (не треба в курсач)\n",
    "\n",
    "Для цього візьмемо значення з показів приладу: $\\pm 3 \\%$ та розмах $5...95$ — $N = 90$"
   ]
  },
  {
   "cell_type": "code",
   "execution_count": 141,
   "metadata": {
    "collapsed": false
   },
   "outputs": [
    {
     "data": {
      "text/latex": [
       "$$\\gamma_{h} = \\frac{3}{90} \\cdot 100 \\% =3.158\\%$$"
      ],
      "text/plain": [
       "<IPython.core.display.Math object>"
      ]
     },
     "metadata": {},
     "output_type": "display_data"
    }
   ],
   "source": [
    "display(Math(r'\\gamma_{h} = \\frac{3}{90} \\cdot 100 \\% =' + str(round((3 / 95 * 100),3)) + '\\%'))"
   ]
  },
  {
   "cell_type": "markdown",
   "metadata": {},
   "source": [
    "## Знайдемо $\\Delta C_1$\n",
    "\n",
    "$$\\Delta \\varphi = \\frac{\\varphi_{max} \\cdot \\gamma_{h}}{100}$$\n"
   ]
  },
  {
   "cell_type": "code",
   "execution_count": 119,
   "metadata": {
    "collapsed": false
   },
   "outputs": [
    {
     "data": {
      "text/latex": [
       "$$\\Delta \\varphi = 0.95$$"
      ],
      "text/plain": [
       "<IPython.core.display.Math object>"
      ]
     },
     "metadata": {},
     "output_type": "display_data"
    }
   ],
   "source": [
    "varphi_max = 95\n",
    "gamma_h = 1\n",
    "\n",
    "Delta_varphi = round((varphi_max * gamma_h / 100), 3)\n",
    "\n",
    "display(Math(r'\\Delta \\varphi = %.2f'% Delta_varphi))"
   ]
  },
  {
   "cell_type": "markdown",
   "metadata": {},
   "source": [
    "$\\Delta C_1 = \\Delta \\varphi \\cdot S_{cep}$"
   ]
  },
  {
   "cell_type": "code",
   "execution_count": 118,
   "metadata": {
    "collapsed": false
   },
   "outputs": [
    {
     "data": {
      "text/latex": [
       "$$\\Delta C_1 = 7.73 ~пкФ$$"
      ],
      "text/plain": [
       "<IPython.core.display.Math object>"
      ]
     },
     "metadata": {},
     "output_type": "display_data"
    }
   ],
   "source": [
    "S = 8.14\n",
    "\n",
    "C_1 = round((Delta_varphi * S) ,3)\n",
    "\n",
    "display(Math(r'\\Delta C_1 = %.2f ~пкФ' % C_1))"
   ]
  },
  {
   "cell_type": "markdown",
   "metadata": {},
   "source": [
    "## Знайдемо $\\Delta C_2$\n",
    "\n",
    "Характеристики мультиметра [Mastech MY65](http://www.mastech.ru/catalog/mult/my65.htm) [[1]](http://tpspribor.ru/pribdescr.php?sheet=1&look=7&look2=1&path=MY-65&nov=377) для діапазону 0 — 2000 пкФ:\n",
    "\n",
    " - $C_{max} = 2000 пкФ$\n",
    " - $\\gamma_m = 1\\%$\n",
    " \n",
    " $$\\Delta C_2 = \\frac{C_{max} \\cdot \\gamma_m}{100}$$"
   ]
  },
  {
   "cell_type": "code",
   "execution_count": 128,
   "metadata": {
    "collapsed": false
   },
   "outputs": [
    {
     "data": {
      "text/latex": [
       "$$\\Delta C_2 = 20.0 ~пкФ$$"
      ],
      "text/plain": [
       "<IPython.core.display.Math object>"
      ]
     },
     "metadata": {},
     "output_type": "display_data"
    }
   ],
   "source": [
    "C_max = 2000\n",
    "C_2 = C_max * 1 / 100\n",
    "\n",
    "display(Math(r'\\Delta C_2 = %s ~пкФ' % C_2))"
   ]
  },
  {
   "cell_type": "markdown",
   "metadata": {},
   "source": [
    "## Сумарна середньоквадратична похибка вимірювання\n",
    "\n",
    "\n",
    "$$ \\Delta C_{\\sum} = \\sqrt{\\Delta C1^2 + \\Delta C2^2}$$"
   ]
  },
  {
   "cell_type": "code",
   "execution_count": 121,
   "metadata": {
    "collapsed": false
   },
   "outputs": [
    {
     "data": {
      "text/latex": [
       "$$\\Delta C_{\\sum} = 21.443 ~пкФ$$"
      ],
      "text/plain": [
       "<IPython.core.display.Math object>"
      ]
     },
     "metadata": {},
     "output_type": "display_data"
    }
   ],
   "source": [
    "from math import sqrt\n",
    "\n",
    "C_sum = round((sqrt(C_1**2.0 + C_2**2.0)),  3)\n",
    "\n",
    "display(Math(r'$\\Delta C_{\\sum} = %s ~пкФ$' % C_sum))"
   ]
  },
  {
   "cell_type": "markdown",
   "metadata": {},
   "source": [
    "## Відносна похибка вимірювання\n",
    "\n",
    "$$\\delta_{\\sum} = \\frac{\\Delta C_{\\sum}}{C}$$"
   ]
  },
  {
   "cell_type": "markdown",
   "metadata": {},
   "source": [
    "## Приведена похибка вимірювання\n",
    "\n",
    "$$\\gamma_{\\sum} = \\frac{\\Delta C_{\\sum}}{С_{\\text{макс}}} \\cdot 100\\%$$"
   ]
  },
  {
   "cell_type": "code",
   "execution_count": 129,
   "metadata": {
    "collapsed": false
   },
   "outputs": [
    {
     "data": {
      "text/latex": [
       "$$\\gamma_{\\sum} = 1.07\\%$$"
      ],
      "text/plain": [
       "<IPython.core.display.Math object>"
      ]
     },
     "metadata": {},
     "output_type": "display_data"
    }
   ],
   "source": [
    "gamma_sum = round((C_sum / C_max * 100), 3)\n",
    "\n",
    "display(Math(r'\\gamma_{\\sum} = %.2f' % gamma_sum + r'\\%'))"
   ]
  },
  {
   "cell_type": "markdown",
   "metadata": {},
   "source": [
    "## Статична характеристика"
   ]
  },
  {
   "cell_type": "code",
   "execution_count": 94,
   "metadata": {
    "collapsed": false,
    "scrolled": true
   },
   "outputs": [
    {
     "data": {
      "image/png": "[encoded data removed]",
      "text/plain": [
       "<matplotlib.figure.Figure at 0x7f04ac90d198>"
      ]
     },
     "metadata": {},
     "output_type": "display_data"
    }
   ],
   "source": [
    "%matplotlib inline\n",
    "import pylab\n",
    "import matplotlib.pyplot as plt \n",
    "\n",
    "# Задаємо розміри графіку\n",
    "pylab.rcParams['figure.figsize'] = (15.0, 10.0)\n",
    "# Задаємо сітку\n",
    "plt.grid(True)\n",
    "\n",
    "plt.plot([24.1, 32.3, 42.0, 53.1, 67.0, 82.3, 65.9, 51.6, 42.4, 33.2, 24.0, ],\n",
    "         [160, 256, 343, 452, 600, 722, 594, 450, 347, 255, 166,], 'bo-')\n",
    "plt.show()"
   ]
  }
 ],
 "metadata": {
  "kernelspec": {
   "display_name": "Python 3",
   "language": "python",
   "name": "python3"
  },
  "language_info": {
   "codemirror_mode": {
    "name": "ipython",
    "version": 3
   },
   "file_extension": ".py",
   "mimetype": "text/x-python",
   "name": "python",
   "nbconvert_exporter": "python",
   "pygments_lexer": "ipython3",
   "version": "3.5.1"
  },
  "widgets": {
   "state": {},
   "version": "1.1.2"
  }
 },
 "nbformat": 4,
 "nbformat_minor": 0
}
